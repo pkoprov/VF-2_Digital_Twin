{
 "cells": [
  {
   "cell_type": "code",
   "execution_count": 1,
   "id": "5768621f",
   "metadata": {},
   "outputs": [],
   "source": [
    "import pandas as pd\n",
    "import openpyxl as xl\n",
    "import random"
   ]
  },
  {
   "cell_type": "code",
   "execution_count": 2,
   "id": "2180743e",
   "metadata": {},
   "outputs": [],
   "source": [
    "X = random.sample(range(-75, 0), 20)\n",
    "Y = random.sample(range(-40, 0), 20)\n",
    "Z = random.sample(range(0,60), 20)"
   ]
  },
  {
   "cell_type": "code",
   "execution_count": 3,
   "id": "4fa7fb36",
   "metadata": {},
   "outputs": [],
   "source": [
    "df = pd.DataFrame()\n",
    "df['X'] = X\n",
    "df['Y'] = Y\n",
    "df['Z'] = Z"
   ]
  },
  {
   "cell_type": "code",
   "execution_count": 4,
   "id": "f80ae8f4",
   "metadata": {},
   "outputs": [],
   "source": [
    "df.to_csv('Dummy Coordinates.csv')"
   ]
  },
  {
   "cell_type": "code",
   "execution_count": 5,
   "id": "98823be5",
   "metadata": {},
   "outputs": [],
   "source": [
    "with open(\"Dummy Coordinates.csv\", 'r', errors=\"ignore\") as file:\n",
    "    df = file.readlines()"
   ]
  },
  {
   "cell_type": "code",
   "execution_count": 6,
   "id": "8a6dcae7",
   "metadata": {},
   "outputs": [
    {
     "data": {
      "text/plain": [
       "[',X,Y,Z\\n',\n",
       " '0,-38,-35,31\\n',\n",
       " '1,-28,-23,43\\n',\n",
       " '2,-69,-32,49\\n',\n",
       " '3,-36,-34,5\\n',\n",
       " '4,-14,-40,45\\n',\n",
       " '5,-61,-2,33\\n',\n",
       " '6,-62,-30,30\\n',\n",
       " '7,-34,-22,22\\n',\n",
       " '8,-58,-9,53\\n',\n",
       " '9,-72,-11,54\\n',\n",
       " '10,-22,-26,50\\n',\n",
       " '11,-37,-38,51\\n',\n",
       " '12,-59,-24,14\\n',\n",
       " '13,-40,-33,16\\n',\n",
       " '14,-49,-37,42\\n',\n",
       " '15,-17,-28,39\\n',\n",
       " '16,-10,-21,4\\n',\n",
       " '17,-32,-7,35\\n',\n",
       " '18,-74,-18,6\\n',\n",
       " '19,-75,-29,38\\n']"
      ]
     },
     "execution_count": 6,
     "metadata": {},
     "output_type": "execute_result"
    }
   ],
   "source": [
    "coordinates = "
   ]
  },
  {
   "cell_type": "code",
   "execution_count": null,
   "id": "69ec53c3",
   "metadata": {},
   "outputs": [],
   "source": []
  }
 ],
 "metadata": {
  "kernelspec": {
   "display_name": "Python 3 (ipykernel)",
   "language": "python",
   "name": "python3"
  },
  "language_info": {
   "codemirror_mode": {
    "name": "ipython",
    "version": 3
   },
   "file_extension": ".py",
   "mimetype": "text/x-python",
   "name": "python",
   "nbconvert_exporter": "python",
   "pygments_lexer": "ipython3",
   "version": "3.9.0"
  }
 },
 "nbformat": 4,
 "nbformat_minor": 5
}
