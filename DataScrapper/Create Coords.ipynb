{
 "cells": [
  {
   "cell_type": "code",
   "execution_count": 1,
   "id": "385d806d",
   "metadata": {},
   "outputs": [],
   "source": [
    "import pandas as pd\n",
    "import random\n",
    "import json\n",
    "import config\n",
    "import psycopg2 as pg\n",
    "import numpy as np"
   ]
  },
  {
   "cell_type": "code",
   "execution_count": 6,
   "id": "17c1ed4b",
   "metadata": {},
   "outputs": [],
   "source": [
    "conn = pg.connect(f\"host = {config.host} port = {config.port} dbname={config.db} user={config.user} \"\n",
    "                  f\"password={config.password}\")\n",
    "CMD = f'select * from \"VF-2_1\" where \"Power-on Time (total)\" IS NOT NULL order by \"Year, month, day\" desc, \"Power-on Time (total)\" desc'\n",
    "df = pd.read_sql_query(CMD, conn)\n",
    "df.replace([None], np.nan, inplace=True)"
   ]
  },
  {
   "cell_type": "code",
   "execution_count": 7,
   "id": "5a775a4e",
   "metadata": {},
   "outputs": [],
   "source": [
    "df = df[df['Year, month, day'] == '211130.0']"
   ]
  },
  {
   "cell_type": "code",
   "execution_count": 9,
   "id": "ebbd9ef4",
   "metadata": {},
   "outputs": [],
   "source": [
    "df2 = df[['Present machine coordinate position X', 'Present machine coordinate position Y', 'Present machine coordinate position Z']]"
   ]
  },
  {
   "cell_type": "code",
   "execution_count": 10,
   "id": "e932f2dc",
   "metadata": {},
   "outputs": [],
   "source": [
    "x = df2['Present machine coordinate position X'].tolist()\n",
    "y = df2['Present machine coordinate position Y'].tolist()\n",
    "z = df2['Present machine coordinate position Z'].tolist()"
   ]
  },
  {
   "cell_type": "code",
   "execution_count": 11,
   "id": "f8892bcf",
   "metadata": {},
   "outputs": [],
   "source": [
    "x = [float(i) for i in x]\n",
    "y = [float(i) for i in y]\n",
    "z = [float(i) for i in z]"
   ]
  },
  {
   "cell_type": "code",
   "execution_count": 15,
   "id": "ba0bb33a",
   "metadata": {},
   "outputs": [],
   "source": [
    "d = pd.DataFrame()\n",
    "d['X'] = x \n",
    "d['Y'] = y\n",
    "d['Z'] = z "
   ]
  },
  {
   "cell_type": "code",
   "execution_count": 16,
   "id": "24501847",
   "metadata": {},
   "outputs": [],
   "source": [
    "d = d.drop_duplicates()"
   ]
  },
  {
   "cell_type": "code",
   "execution_count": 17,
   "id": "a55e346e",
   "metadata": {},
   "outputs": [],
   "source": [
    "d.to_csv('Coordinates.csv')"
   ]
  },
  {
   "cell_type": "code",
   "execution_count": 14,
   "id": "8dac3bc8",
   "metadata": {},
   "outputs": [
    {
     "data": {
      "text/plain": [
       "float"
      ]
     },
     "execution_count": 14,
     "metadata": {},
     "output_type": "execute_result"
    }
   ],
   "source": [
    "type(x[1])"
   ]
  },
  {
   "cell_type": "code",
   "execution_count": 18,
   "id": "5a984eab",
   "metadata": {},
   "outputs": [
    {
     "data": {
      "text/html": [
       "<div>\n",
       "<style scoped>\n",
       "    .dataframe tbody tr th:only-of-type {\n",
       "        vertical-align: middle;\n",
       "    }\n",
       "\n",
       "    .dataframe tbody tr th {\n",
       "        vertical-align: top;\n",
       "    }\n",
       "\n",
       "    .dataframe thead th {\n",
       "        text-align: right;\n",
       "    }\n",
       "</style>\n",
       "<table border=\"1\" class=\"dataframe\">\n",
       "  <thead>\n",
       "    <tr style=\"text-align: right;\">\n",
       "      <th></th>\n",
       "      <th>X</th>\n",
       "      <th>Y</th>\n",
       "      <th>Z</th>\n",
       "    </tr>\n",
       "  </thead>\n",
       "  <tbody>\n",
       "    <tr>\n",
       "      <th>0</th>\n",
       "      <td>-14.9819</td>\n",
       "      <td>0.0000</td>\n",
       "      <td>-0.0003</td>\n",
       "    </tr>\n",
       "    <tr>\n",
       "      <th>24</th>\n",
       "      <td>-14.9819</td>\n",
       "      <td>0.0000</td>\n",
       "      <td>0.0000</td>\n",
       "    </tr>\n",
       "    <tr>\n",
       "      <th>98</th>\n",
       "      <td>-14.9819</td>\n",
       "      <td>-1.2854</td>\n",
       "      <td>0.0000</td>\n",
       "    </tr>\n",
       "    <tr>\n",
       "      <th>99</th>\n",
       "      <td>-16.1822</td>\n",
       "      <td>-4.5183</td>\n",
       "      <td>0.0000</td>\n",
       "    </tr>\n",
       "    <tr>\n",
       "      <th>100</th>\n",
       "      <td>-20.4342</td>\n",
       "      <td>-4.5183</td>\n",
       "      <td>0.0000</td>\n",
       "    </tr>\n",
       "    <tr>\n",
       "      <th>...</th>\n",
       "      <td>...</td>\n",
       "      <td>...</td>\n",
       "      <td>...</td>\n",
       "    </tr>\n",
       "    <tr>\n",
       "      <th>299</th>\n",
       "      <td>-14.0854</td>\n",
       "      <td>-8.2863</td>\n",
       "      <td>-6.5685</td>\n",
       "    </tr>\n",
       "    <tr>\n",
       "      <th>300</th>\n",
       "      <td>-13.8317</td>\n",
       "      <td>-8.2863</td>\n",
       "      <td>-6.5685</td>\n",
       "    </tr>\n",
       "    <tr>\n",
       "      <th>301</th>\n",
       "      <td>-13.5780</td>\n",
       "      <td>-8.2863</td>\n",
       "      <td>-6.5685</td>\n",
       "    </tr>\n",
       "    <tr>\n",
       "      <th>302</th>\n",
       "      <td>-13.3243</td>\n",
       "      <td>-8.2863</td>\n",
       "      <td>-6.5685</td>\n",
       "    </tr>\n",
       "    <tr>\n",
       "      <th>303</th>\n",
       "      <td>-13.0768</td>\n",
       "      <td>-8.2863</td>\n",
       "      <td>-6.5685</td>\n",
       "    </tr>\n",
       "  </tbody>\n",
       "</table>\n",
       "<p>208 rows × 3 columns</p>\n",
       "</div>"
      ],
      "text/plain": [
       "           X       Y       Z\n",
       "0   -14.9819  0.0000 -0.0003\n",
       "24  -14.9819  0.0000  0.0000\n",
       "98  -14.9819 -1.2854  0.0000\n",
       "99  -16.1822 -4.5183  0.0000\n",
       "100 -20.4342 -4.5183  0.0000\n",
       "..       ...     ...     ...\n",
       "299 -14.0854 -8.2863 -6.5685\n",
       "300 -13.8317 -8.2863 -6.5685\n",
       "301 -13.5780 -8.2863 -6.5685\n",
       "302 -13.3243 -8.2863 -6.5685\n",
       "303 -13.0768 -8.2863 -6.5685\n",
       "\n",
       "[208 rows x 3 columns]"
      ]
     },
     "execution_count": 18,
     "metadata": {},
     "output_type": "execute_result"
    }
   ],
   "source": [
    "d"
   ]
  },
  {
   "cell_type": "code",
   "execution_count": null,
   "id": "eff3ee94",
   "metadata": {},
   "outputs": [],
   "source": []
  }
 ],
 "metadata": {
  "kernelspec": {
   "display_name": "Python 3 (ipykernel)",
   "language": "python",
   "name": "python3"
  },
  "language_info": {
   "codemirror_mode": {
    "name": "ipython",
    "version": 3
   },
   "file_extension": ".py",
   "mimetype": "text/x-python",
   "name": "python",
   "nbconvert_exporter": "python",
   "pygments_lexer": "ipython3",
   "version": "3.9.9"
  }
 },
 "nbformat": 4,
 "nbformat_minor": 5
}
