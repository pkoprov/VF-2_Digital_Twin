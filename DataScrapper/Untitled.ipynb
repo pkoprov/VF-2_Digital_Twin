{
 "cells": [
  {
   "cell_type": "code",
   "execution_count": 2,
   "id": "b212a940",
   "metadata": {},
   "outputs": [],
   "source": [
    "import pandas as pd\n",
    "import random\n",
    "import json\n",
    "import config\n",
    "import psycopg2 as pg\n",
    "import numpy as np"
   ]
  },
  {
   "cell_type": "code",
   "execution_count": 3,
   "id": "0bbab8b2",
   "metadata": {},
   "outputs": [],
   "source": [
    "conn = pg.connect(f\"host = {config.host} port = {config.port} dbname={config.db} user={config.user} \"\n",
    "                  f\"password={config.password}\")\n",
    "CMD = f'select * from \"VF-2_1\" where \"Power-on Time (total)\" IS NOT NULL order by \"Year, month, day\" desc, \"Power-on Time (total)\" desc'\n",
    "df = pd.read_sql_query(CMD, conn)\n",
    "df.replace([None], np.nan, inplace=True)"
   ]
  },
  {
   "cell_type": "code",
   "execution_count": 7,
   "id": "a49f281b",
   "metadata": {},
   "outputs": [],
   "source": [
    "df2 = df[['Present machine coordinate position X', 'Present machine coordinate position Y', 'Present machine coordinate position Z']]"
   ]
  },
  {
   "cell_type": "code",
   "execution_count": 26,
   "id": "10a59cf5",
   "metadata": {},
   "outputs": [],
   "source": [
    "x = df2['Present machine coordinate position X'].tolist()\n",
    "y = df2['Present machine coordinate position Y'].tolist()\n",
    "z = df2['Present machine coordinate position Z'].tolist()"
   ]
  },
  {
   "cell_type": "code",
   "execution_count": 27,
   "id": "24cddc2f",
   "metadata": {},
   "outputs": [],
   "source": [
    "x = [float(i) for i in x]\n",
    "y = [float(i) for i in y]\n",
    "z = [float(i) for i in z]"
   ]
  },
  {
   "cell_type": "code",
   "execution_count": 28,
   "id": "77583c00",
   "metadata": {},
   "outputs": [
    {
     "data": {
      "text/html": [
       "<div>\n",
       "<style scoped>\n",
       "    .dataframe tbody tr th:only-of-type {\n",
       "        vertical-align: middle;\n",
       "    }\n",
       "\n",
       "    .dataframe tbody tr th {\n",
       "        vertical-align: top;\n",
       "    }\n",
       "\n",
       "    .dataframe thead th {\n",
       "        text-align: right;\n",
       "    }\n",
       "</style>\n",
       "<table border=\"1\" class=\"dataframe\">\n",
       "  <thead>\n",
       "    <tr style=\"text-align: right;\">\n",
       "      <th></th>\n",
       "      <th>x</th>\n",
       "      <th>y</th>\n",
       "      <th>z</th>\n",
       "    </tr>\n",
       "  </thead>\n",
       "  <tbody>\n",
       "    <tr>\n",
       "      <th>0</th>\n",
       "      <td>-15.00</td>\n",
       "      <td>-8.05</td>\n",
       "      <td>-0.0001</td>\n",
       "    </tr>\n",
       "    <tr>\n",
       "      <th>1</th>\n",
       "      <td>-15.00</td>\n",
       "      <td>-8.05</td>\n",
       "      <td>-0.0001</td>\n",
       "    </tr>\n",
       "    <tr>\n",
       "      <th>2</th>\n",
       "      <td>-15.00</td>\n",
       "      <td>-8.05</td>\n",
       "      <td>-0.0001</td>\n",
       "    </tr>\n",
       "    <tr>\n",
       "      <th>3</th>\n",
       "      <td>-15.00</td>\n",
       "      <td>-8.05</td>\n",
       "      <td>-0.0001</td>\n",
       "    </tr>\n",
       "    <tr>\n",
       "      <th>4</th>\n",
       "      <td>-15.00</td>\n",
       "      <td>-8.05</td>\n",
       "      <td>-0.0001</td>\n",
       "    </tr>\n",
       "    <tr>\n",
       "      <th>...</th>\n",
       "      <td>...</td>\n",
       "      <td>...</td>\n",
       "      <td>...</td>\n",
       "    </tr>\n",
       "    <tr>\n",
       "      <th>21191</th>\n",
       "      <td>-16.05</td>\n",
       "      <td>0.00</td>\n",
       "      <td>0.0951</td>\n",
       "    </tr>\n",
       "    <tr>\n",
       "      <th>21192</th>\n",
       "      <td>-16.05</td>\n",
       "      <td>0.00</td>\n",
       "      <td>-0.0002</td>\n",
       "    </tr>\n",
       "    <tr>\n",
       "      <th>21193</th>\n",
       "      <td>-16.05</td>\n",
       "      <td>0.00</td>\n",
       "      <td>0.0007</td>\n",
       "    </tr>\n",
       "    <tr>\n",
       "      <th>21194</th>\n",
       "      <td>-16.05</td>\n",
       "      <td>0.00</td>\n",
       "      <td>0.0000</td>\n",
       "    </tr>\n",
       "    <tr>\n",
       "      <th>21195</th>\n",
       "      <td>-16.05</td>\n",
       "      <td>0.00</td>\n",
       "      <td>0.0000</td>\n",
       "    </tr>\n",
       "  </tbody>\n",
       "</table>\n",
       "<p>21196 rows × 3 columns</p>\n",
       "</div>"
      ],
      "text/plain": [
       "           x     y       z\n",
       "0     -15.00 -8.05 -0.0001\n",
       "1     -15.00 -8.05 -0.0001\n",
       "2     -15.00 -8.05 -0.0001\n",
       "3     -15.00 -8.05 -0.0001\n",
       "4     -15.00 -8.05 -0.0001\n",
       "...      ...   ...     ...\n",
       "21191 -16.05  0.00  0.0951\n",
       "21192 -16.05  0.00 -0.0002\n",
       "21193 -16.05  0.00  0.0007\n",
       "21194 -16.05  0.00  0.0000\n",
       "21195 -16.05  0.00  0.0000\n",
       "\n",
       "[21196 rows x 3 columns]"
      ]
     },
     "execution_count": 28,
     "metadata": {},
     "output_type": "execute_result"
    }
   ],
   "source": [
    "d"
   ]
  },
  {
   "cell_type": "code",
   "execution_count": null,
   "id": "e75cce88",
   "metadata": {},
   "outputs": [],
   "source": []
  }
 ],
 "metadata": {
  "kernelspec": {
   "display_name": "Python 3 (ipykernel)",
   "language": "python",
   "name": "python3"
  },
  "language_info": {
   "codemirror_mode": {
    "name": "ipython",
    "version": 3
   },
   "file_extension": ".py",
   "mimetype": "text/x-python",
   "name": "python",
   "nbconvert_exporter": "python",
   "pygments_lexer": "ipython3",
   "version": "3.9.9"
  }
 },
 "nbformat": 4,
 "nbformat_minor": 5
}
