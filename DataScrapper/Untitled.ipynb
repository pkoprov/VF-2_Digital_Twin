{
 "cells": [
  {
   "cell_type": "code",
   "execution_count": 2,
   "id": "989a9f82",
   "metadata": {},
   "outputs": [],
   "source": [
    "import pandas as pd\n",
    "import random\n",
    "import json\n",
    "import config\n",
    "import psycopg2 as pg\n",
    "import numpy as np"
   ]
  },
  {
   "cell_type": "code",
   "execution_count": 3,
   "id": "1a70d413",
   "metadata": {},
   "outputs": [],
   "source": [
    "conn = pg.connect(f\"host = {config.host} port = {config.port} dbname={config.db} user={config.user} \"\n",
    "                  f\"password={config.password}\")\n",
    "CMD = f'select * from \"VF-2_1\" where \"Power-on Time (total)\" IS NOT NULL order by \"Year, month, day\" desc, \"Power-on Time (total)\" desc'\n",
    "df = pd.read_sql_query(CMD, conn)\n",
    "df.replace([None], np.nan, inplace=True)"
   ]
  },
  {
   "cell_type": "code",
   "execution_count": 7,
   "id": "c9c798ad",
   "metadata": {},
   "outputs": [],
   "source": [
    "df2 = df[['Present machine coordinate position X', 'Present machine coordinate position Y', 'Present machine coordinate position Z']]"
   ]
  },
  {
   "cell_type": "code",
   "execution_count": 11,
   "id": "c3f31e41",
   "metadata": {},
   "outputs": [],
   "source": [
    "x = df2['Present machine coordinate position X'].tolist()\n",
    "y = df2['Present machine coordinate position Y'].tolist()\n",
    "z = df2['Present machine coordinate position Z'].tolist()"
   ]
  },
  {
   "cell_type": "code",
   "execution_count": 12,
   "id": "c79e731b",
   "metadata": {},
   "outputs": [],
   "source": [
    "x = [float(i) for i in x]\n",
    "y = [float(i) for i in y]\n",
    "z = [float(i) for i in z]"
   ]
  },
  {
   "cell_type": "code",
   "execution_count": 13,
   "id": "78262be9",
   "metadata": {},
   "outputs": [],
   "source": [
    "d = pd.DataFrame()"
   ]
  },
  {
   "cell_type": "code",
   "execution_count": 14,
   "id": "711a21cf",
   "metadata": {},
   "outputs": [],
   "source": [
    "d['x'] = x\n",
    "d['y'] = y\n",
    "d['z'] = z"
   ]
  },
  {
   "cell_type": "code",
   "execution_count": 16,
   "id": "524965b6",
   "metadata": {},
   "outputs": [],
   "source": [
    "d.to_csv('Coordinates.csv', index=False)"
   ]
  },
  {
   "cell_type": "code",
   "execution_count": null,
   "id": "09a294cb",
   "metadata": {},
   "outputs": [],
   "source": []
  }
 ],
 "metadata": {
  "kernelspec": {
   "display_name": "Python 3 (ipykernel)",
   "language": "python",
   "name": "python3"
  },
  "language_info": {
   "codemirror_mode": {
    "name": "ipython",
    "version": 3
   },
   "file_extension": ".py",
   "mimetype": "text/x-python",
   "name": "python",
   "nbconvert_exporter": "python",
   "pygments_lexer": "ipython3",
   "version": "3.9.9"
  }
 },
 "nbformat": 4,
 "nbformat_minor": 5
}
